{
 "cells": [
  {
   "cell_type": "markdown",
   "metadata": {},
   "source": [
    "### Load Spark"
   ]
  },
  {
   "cell_type": "code",
   "execution_count": 3,
   "metadata": {
    "collapsed": false
   },
   "outputs": [
    {
     "name": "stdout",
     "output_type": "stream",
     "text": [
      "Welcome to\n",
      "      ____              __\n",
      "     / __/__  ___ _____/ /__\n",
      "    _\\ \\/ _ \\/ _ `/ __/  '_/\n",
      "   /__ / .__/\\_,_/_/ /_/\\_\\   version 1.5.2\n",
      "      /_/\n",
      "\n",
      "Using Python version 2.7.10 (default, Oct 19 2015 18:04:42)\n",
      "SparkContext available as sc, HiveContext available as sqlContext.\n"
     ]
    }
   ],
   "source": [
    "import os\n",
    "import sys\n",
    "\n",
    "spark_home = os.getenv('SPARK_HOME', None)\n",
    "if not spark_home:\n",
    "    raise ValueError('SPARK_HOME environment variable is not set')\n",
    "sys.path.insert(0, os.path.join(spark_home, 'python'))\n",
    "sys.path.insert(0, os.path.join(spark_home, 'python/lib/py4j-0.8.1-src.zip'))\n",
    "execfile(os.path.join(spark_home, 'python/pyspark/shell.py'))"
   ]
  },
  {
   "cell_type": "code",
   "execution_count": 4,
   "metadata": {
    "collapsed": true
   },
   "outputs": [],
   "source": [
    "def categorical_to_numeric(dataframe):\n",
    "    for i in range(len(dataframe.columns)):\n",
    "        val = dataframe[i].values[0]\n",
    "        if (isinstance(val, str) and not val.isdigit()):\n",
    "            column = dataframe[i].values\n",
    "            unique_values = np.unique(column)\n",
    "            mapper = {value: index for (index, value) in enumerate(unique_values)}\n",
    "\n",
    "            dataframe.replace({i: mapper}, inplace=True)\n",
    "    return dataframe"
   ]
  },
  {
   "cell_type": "markdown",
   "metadata": {},
   "source": [
    "### ** Read and parse the initial dataset **"
   ]
  },
  {
   "cell_type": "markdown",
   "metadata": {},
   "source": [
    "#### ** Load and check the data **\n",
    "#### The raw data is currently stored in a CSV.  We will start by storing this raw data in as an RDD, with each element of the RDD representing a data point as a comma-delimited string. Each string starts with the label (a year) followed by numerical audio features. Use the [count method](https://spark.apache.org/docs/latest/api/python/pyspark.html#pyspark.RDD.count) to check how many data points we have.  Then use the [take method](https://spark.apache.org/docs/latest/api/python/pyspark.html#pyspark.RDD.take) to create and print out a list of the first 5 data points in their initial string format."
   ]
  },
  {
   "cell_type": "code",
   "execution_count": 50,
   "metadata": {
    "collapsed": false
   },
   "outputs": [
    {
     "name": "stdout",
     "output_type": "stream",
     "text": [
      "Load complete.\n"
     ]
    }
   ],
   "source": [
    "# load libraries\n",
    "from pyspark.mllib.regression import LabeledPoint\n",
    "import numpy as np\n",
    "import pandas as pd\n",
    "from test_helper import Test\n",
    "\n",
    "# from pyspark import SparkContext\n",
    "# sc = SparkContext()\n",
    "\n",
    "filepath = \"/home/castamere/code/independent/outputs/truncated.csv\"\n",
    "# filepath = \"/home/castamere/code/independent/outputs/hive_results.csv\"\n",
    "\n",
    "numPartitions = 2\n",
    "\n",
    "# rawData = sc.textFile(filePath, numPartitions, del='\\t')\n",
    "print \"Load complete.\""
   ]
  },
  {
   "cell_type": "code",
   "execution_count": 51,
   "metadata": {
    "collapsed": false
   },
   "outputs": [
    {
     "name": "stdout",
     "output_type": "stream",
     "text": [
      "(9999, 12)\n",
      "      person_id   timestamp gender  birthyear  age   smoker_categ  \\\n",
      "0       8599033  2011-02-23      F       1936   78  SOC_NonSmoker   \n",
      "1       8599033  2011-02-23      F       1936   78  SOC_NonSmoker   \n",
      "2       8599033  2011-02-23      F       1936   78  SOC_NonSmoker   \n",
      "3       8599033  2011-02-23      F       1936   78  SOC_NonSmoker   \n",
      "4       8599033  2011-02-23      F       1936   78  SOC_NonSmoker   \n",
      "5       8599033  2011-02-23      F       1936   78  SOC_NonSmoker   \n",
      "6       8599033  2011-02-23      F       1936   78  SOC_NonSmoker   \n",
      "7       8599033  2011-02-23      F       1936   78  SOC_NonSmoker   \n",
      "8       8599033  2011-02-23      F       1936   78  SOC_NonSmoker   \n",
      "9       8599033  2011-02-23      F       1936   78  SOC_NonSmoker   \n",
      "10      8599033  2011-02-23      F       1936   78  SOC_NonSmoker   \n",
      "11      8599033  2011-02-23      F       1936   78  SOC_NonSmoker   \n",
      "12      8599033  2011-02-23      F       1936   78  SOC_NonSmoker   \n",
      "13      8599033  2011-02-23      F       1936   78  SOC_NonSmoker   \n",
      "14      8599033  2011-02-23      F       1936   78  SOC_NonSmoker   \n",
      "15      8599033  2011-02-23      F       1936   78  SOC_NonSmoker   \n",
      "16      8599033  2011-02-23      F       1936   78  SOC_NonSmoker   \n",
      "17      8599033  2011-02-23      F       1936   78  SOC_NonSmoker   \n",
      "18      8599033  2011-02-23      F       1936   78  SOC_NonSmoker   \n",
      "19      8599033  2011-02-23      F       1936   78  SOC_NonSmoker   \n",
      "20      8599033  2011-02-23      F       1936   78  SOC_NonSmoker   \n",
      "21      8599033  2011-02-23      F       1936   78  SOC_NonSmoker   \n",
      "22      8599033  2011-02-23      F       1936   78  SOC_NonSmoker   \n",
      "23      8599033  2011-02-23      F       1936   78  SOC_NonSmoker   \n",
      "24      8599033  2011-02-23      F       1936   78  SOC_NonSmoker   \n",
      "25      8599033  2011-06-21      F       1936   78  SOC_NonSmoker   \n",
      "26      8599033  2011-06-21      F       1936   78  SOC_NonSmoker   \n",
      "27      8599033  2011-06-21      F       1936   78  SOC_NonSmoker   \n",
      "28      8599033  2011-06-21      F       1936   78  SOC_NonSmoker   \n",
      "29      8599033  2011-06-21      F       1936   78  SOC_NonSmoker   \n",
      "...         ...         ...    ...        ...  ...            ...   \n",
      "9969    8599260  2008-06-23      M       1925   89  SOC_NonSmoker   \n",
      "9970    8599260  2008-06-23      M       1925   89  SOC_NonSmoker   \n",
      "9971    8599260  2008-06-23      M       1925   89  SOC_NonSmoker   \n",
      "9972    8599260  2008-06-23      M       1925   89  SOC_NonSmoker   \n",
      "9973    8599260  2008-06-23      M       1925   89  SOC_NonSmoker   \n",
      "9974    8599260  2008-06-23      M       1925   89  SOC_NonSmoker   \n",
      "9975    8599260  2008-06-23      M       1925   89  SOC_NonSmoker   \n",
      "9976    8599260  2008-06-23      M       1925   89  SOC_NonSmoker   \n",
      "9977    8599261  2006-10-12      M       1931   83  SOC_NonSmoker   \n",
      "9978    8599261  2006-10-12      M       1931   83  SOC_NonSmoker   \n",
      "9979    8599261  2006-10-12      M       1931   83  SOC_NonSmoker   \n",
      "9980    8599261  2006-10-12      M       1931   83  SOC_NonSmoker   \n",
      "9981    8599261  2006-10-12      M       1931   83  SOC_NonSmoker   \n",
      "9982    8599261  2006-10-12      M       1931   83  SOC_NonSmoker   \n",
      "9983    8599261  2006-10-12      M       1931   83  SOC_NonSmoker   \n",
      "9984    8599261  2006-10-12      M       1931   83  SOC_NonSmoker   \n",
      "9985    8599265  2007-02-14      M       1932   82  SOC_NonSmoker   \n",
      "9986    8599265  2007-02-14      M       1932   82  SOC_NonSmoker   \n",
      "9987    8599265  2007-02-14      M       1932   82  SOC_NonSmoker   \n",
      "9988    8599265  2007-02-14      M       1932   82  SOC_NonSmoker   \n",
      "9989    8599265  2007-02-14      M       1932   82  SOC_NonSmoker   \n",
      "9990    8599265  2007-02-14      M       1932   82  SOC_NonSmoker   \n",
      "9991    8599265  2007-02-14      M       1932   82  SOC_NonSmoker   \n",
      "9992    8599265  2007-02-14      M       1932   82  SOC_NonSmoker   \n",
      "9993    8599265  2007-02-14      M       1932   82  SOC_NonSmoker   \n",
      "9994    8599265  2007-02-14      M       1932   82  SOC_NonSmoker   \n",
      "9995    8599265  2007-02-14      M       1932   82  SOC_NonSmoker   \n",
      "9996    8599265  2007-02-14      M       1932   82  SOC_NonSmoker   \n",
      "9997    8599265  2007-02-14      M       1932   82  SOC_NonSmoker   \n",
      "9998    8599265  2007-02-14      M       1932   82  SOC_NonSmoker   \n",
      "\n",
      "     smoker_detail    labtest_name  labtest_val finding_name  finding_val  \\\n",
      "0                n          LR_ALT         28.0     FND_HTIN         65.0   \n",
      "1                n          LR_HDL         44.0     FND_WTLB        206.0   \n",
      "2                n          LR_HDL         44.0      FND_BPD         70.0   \n",
      "3                n          LR_HDL         44.0      FND_BPS        120.0   \n",
      "4                n          LR_HDL         44.0     FND_HTIN         65.0   \n",
      "5                n          LR_LDL         75.0     FND_WTLB        206.0   \n",
      "6                n          LR_LDL         75.0      FND_BPD         70.0   \n",
      "7                n          LR_LDL         75.0      FND_BPS        120.0   \n",
      "8                n          LR_LDL         75.0     FND_HTIN         65.0   \n",
      "9                n  LR_GlucNonFast        155.0     FND_WTLB        206.0   \n",
      "10               n  LR_GlucNonFast        155.0      FND_BPD         70.0   \n",
      "11               n  LR_GlucNonFast        155.0      FND_BPS        120.0   \n",
      "12               n  LR_GlucNonFast        155.0     FND_HTIN         65.0   \n",
      "13               n          LR_AST         28.0     FND_WTLB        206.0   \n",
      "14               n          LR_AST         28.0      FND_BPD         70.0   \n",
      "15               n          LR_AST         28.0      FND_BPS        120.0   \n",
      "16               n          LR_AST         28.0     FND_HTIN         65.0   \n",
      "17               n           LR_CR          1.0     FND_WTLB        206.0   \n",
      "18               n           LR_CR          1.0      FND_BPD         70.0   \n",
      "19               n           LR_CR          1.0      FND_BPS        120.0   \n",
      "20               n           LR_CR          1.0     FND_HTIN         65.0   \n",
      "21               n          LR_A1C          8.7     FND_WTLB        206.0   \n",
      "22               n          LR_A1C          8.7      FND_BPD         70.0   \n",
      "23               n          LR_A1C          8.7      FND_BPS        120.0   \n",
      "24               n          LR_A1C          8.7     FND_HTIN         65.0   \n",
      "25               n          LR_ALT         19.0     FND_WTLB        207.0   \n",
      "26               n          LR_ALT         19.0      FND_BPD         80.0   \n",
      "27               n          LR_ALT         19.0     FND_HTIN         65.0   \n",
      "28               n          LR_ALT         19.0      FND_BPS        140.0   \n",
      "29               n          LR_HDL         41.0     FND_WTLB        207.0   \n",
      "...            ...             ...          ...          ...          ...   \n",
      "9969             n          LR_ALT          9.0     FND_WTLB        213.8   \n",
      "9970             n          LR_ALT          9.0      FND_BPS        120.0   \n",
      "9971             n          LR_ALT          9.0      FND_BPD         78.0   \n",
      "9972             n          LR_ALT          9.0     FND_HTIN         71.0   \n",
      "9973             n     LR_GlucFast        107.0     FND_WTLB        213.8   \n",
      "9974             n     LR_GlucFast        107.0      FND_BPS        120.0   \n",
      "9975             n     LR_GlucFast        107.0      FND_BPD         78.0   \n",
      "9976             n     LR_GlucFast        107.0     FND_HTIN         71.0   \n",
      "9977             n          LR_AST         23.0      FND_BPD         65.0   \n",
      "9978             n          LR_AST         23.0     FND_WTLB        211.0   \n",
      "9979             n          LR_AST         23.0      FND_BPS        115.0   \n",
      "9980             n          LR_AST         23.0     FND_HTIN         76.0   \n",
      "9981             n          LR_ALT         26.0      FND_BPD         65.0   \n",
      "9982             n          LR_ALT         26.0     FND_WTLB        211.0   \n",
      "9983             n          LR_ALT         26.0      FND_BPS        115.0   \n",
      "9984             n          LR_ALT         26.0     FND_HTIN         76.0   \n",
      "9985             n           LR_CR          0.9     FND_HTIN         70.0   \n",
      "9986             n           LR_CR          0.9      FND_BPS        144.0   \n",
      "9987             n           LR_CR          0.9     FND_WTLB        175.0   \n",
      "9988             n           LR_CR          0.9      FND_BPD         90.0   \n",
      "9989             n          LR_ALT         19.0     FND_HTIN         70.0   \n",
      "9990             n          LR_ALT         19.0      FND_BPS        144.0   \n",
      "9991             n          LR_ALT         19.0     FND_WTLB        175.0   \n",
      "9992             n          LR_ALT         19.0      FND_BPD         90.0   \n",
      "9993             n          LR_AST         30.0     FND_HTIN         70.0   \n",
      "9994             n          LR_AST         30.0      FND_BPS        144.0   \n",
      "9995             n          LR_AST         30.0     FND_WTLB        175.0   \n",
      "9996             n          LR_AST         30.0      FND_BPD         90.0   \n",
      "9997             n  LR_GlucNonFast         79.0     FND_HTIN         70.0   \n",
      "9998             n  LR_GlucNonFast         79.0      FND_BPS        144.0   \n",
      "\n",
      "           egfr  \n",
      "0     53.622462  \n",
      "1     53.622462  \n",
      "2     53.622462  \n",
      "3     53.622462  \n",
      "4     53.622462  \n",
      "5     53.622462  \n",
      "6     53.622462  \n",
      "7     53.622462  \n",
      "8     53.622462  \n",
      "9     53.622462  \n",
      "10    53.622462  \n",
      "11    53.622462  \n",
      "12    53.622462  \n",
      "13    53.622462  \n",
      "14    53.622462  \n",
      "15    53.622462  \n",
      "16    53.622462  \n",
      "17    53.622462  \n",
      "18    53.622462  \n",
      "19    53.622462  \n",
      "20    53.622462  \n",
      "21    53.622462  \n",
      "22    53.622462  \n",
      "23    53.622462  \n",
      "24    53.622462  \n",
      "25    48.037411  \n",
      "26    48.037411  \n",
      "27    48.037411  \n",
      "28    48.037411  \n",
      "29    48.037411  \n",
      "...         ...  \n",
      "9969  30.104471  \n",
      "9970  30.104471  \n",
      "9971  30.104471  \n",
      "9972  30.104471  \n",
      "9973  30.104471  \n",
      "9974  30.104471  \n",
      "9975  30.104471  \n",
      "9976  30.104471  \n",
      "9977  51.440874  \n",
      "9978  51.440874  \n",
      "9979  51.440874  \n",
      "9980  51.440874  \n",
      "9981  51.440874  \n",
      "9982  51.440874  \n",
      "9983  51.440874  \n",
      "9984  51.440874  \n",
      "9985  85.864348  \n",
      "9986  85.864348  \n",
      "9987  85.864348  \n",
      "9988  85.864348  \n",
      "9989  85.864348  \n",
      "9990  85.864348  \n",
      "9991  85.864348  \n",
      "9992  85.864348  \n",
      "9993  85.864348  \n",
      "9994  85.864348  \n",
      "9995  85.864348  \n",
      "9996  85.864348  \n",
      "9997  85.864348  \n",
      "9998  85.864348  \n",
      "\n",
      "[9999 rows x 12 columns]\n"
     ]
    }
   ],
   "source": [
    "column_names = ['person_id', 'timestamp', 'gender', 'birthyear', 'age', 'smoker_categ', 'smoker_detail', 'labtest_name', 'labtest_val', 'finding_name', 'finding_val', 'egfr']\n",
    "\n",
    "df = pd.read_csv(filepath, delimiter=\"\\t\", header=None)\n",
    "df.columns = column_names\n",
    "print df.shape\n",
    "print df\n",
    "\n",
    "# df = rawData.toDF()\n",
    "# df = sqlContext.createDataFrame(rawData)"
   ]
  },
  {
   "cell_type": "code",
   "execution_count": 52,
   "metadata": {
    "collapsed": false
   },
   "outputs": [
    {
     "name": "stdout",
     "output_type": "stream",
     "text": [
      "set(['SOC_Smoker', 'SOC_PastSmoker', 'SOC_NonSmoker'])\n",
      "set(['y', 'n'])\n",
      "set(['LR_HDL', 'LR_MicroCr', 'LR_AST', 'LR_Trig', 'LR_PHOS', 'LR_CR', 'LR_GlucFast', 'LR_GlucNonFast', 'LR_LDL', 'LR_GFR', 'LR_ALT', 'LR_A1C', 'LR_GFR_AfrAmer'])\n",
      "set(['FND_BPD', 'FND_BPS', 'FND_WTLB', 'FND_HTIN'])\n"
     ]
    }
   ],
   "source": [
    "print set(df['smoker_categ'].values)\n",
    "print set(df['smoker_detail'].values)\n",
    "print set(df['labtest_name'].values)\n",
    "print set(df['finding_name'].values)\n"
   ]
  },
  {
   "cell_type": "code",
   "execution_count": null,
   "metadata": {
    "collapsed": true
   },
   "outputs": [],
   "source": [
    "\n",
    "# Identify the categorical data columns and convert them to a numerical representation\n",
    "df = categorical_to_numeric(df)\n",
    "\n",
    "spark_df = sqlContext.createDataFrame(df)\n",
    "rawData = spark_df.rdd\n"
   ]
  },
  {
   "cell_type": "code",
   "execution_count": 7,
   "metadata": {
    "collapsed": false
   },
   "outputs": [
    {
     "name": "stdout",
     "output_type": "stream",
     "text": [
      "           0    1   2     3   4   5   6   7      8   9      10         11\n",
      "0     8599033  285   0  1936  78   0   0   1   28.0   2   65.0  53.622462\n",
      "1     8599033  285   0  1936  78   0   0   8   44.0   3  206.0  53.622462\n",
      "2     8599033  285   0  1936  78   0   0   8   44.0   0   70.0  53.622462\n",
      "3     8599033  285   0  1936  78   0   0   8   44.0   1  120.0  53.622462\n",
      "4     8599033  285   0  1936  78   0   0   8   44.0   2   65.0  53.622462\n",
      "5     8599033  285   0  1936  78   0   0   9   75.0   3  206.0  53.622462\n",
      "6     8599033  285   0  1936  78   0   0   9   75.0   0   70.0  53.622462\n",
      "7     8599033  285   0  1936  78   0   0   9   75.0   1  120.0  53.622462\n",
      "8     8599033  285   0  1936  78   0   0   9   75.0   2   65.0  53.622462\n",
      "9     8599033  285   0  1936  78   0   0   7  155.0   3  206.0  53.622462\n",
      "10    8599033  285   0  1936  78   0   0   7  155.0   0   70.0  53.622462\n",
      "11    8599033  285   0  1936  78   0   0   7  155.0   1  120.0  53.622462\n",
      "12    8599033  285   0  1936  78   0   0   7  155.0   2   65.0  53.622462\n",
      "13    8599033  285   0  1936  78   0   0   2   28.0   3  206.0  53.622462\n",
      "14    8599033  285   0  1936  78   0   0   2   28.0   0   70.0  53.622462\n",
      "15    8599033  285   0  1936  78   0   0   2   28.0   1  120.0  53.622462\n",
      "16    8599033  285   0  1936  78   0   0   2   28.0   2   65.0  53.622462\n",
      "17    8599033  285   0  1936  78   0   0   3    1.0   3  206.0  53.622462\n",
      "18    8599033  285   0  1936  78   0   0   3    1.0   0   70.0  53.622462\n",
      "19    8599033  285   0  1936  78   0   0   3    1.0   1  120.0  53.622462\n",
      "20    8599033  285   0  1936  78   0   0   3    1.0   2   65.0  53.622462\n",
      "21    8599033  285   0  1936  78   0   0   0    8.7   3  206.0  53.622462\n",
      "22    8599033  285   0  1936  78   0   0   0    8.7   0   70.0  53.622462\n",
      "23    8599033  285   0  1936  78   0   0   0    8.7   1  120.0  53.622462\n",
      "24    8599033  285   0  1936  78   0   0   0    8.7   2   65.0  53.622462\n",
      "25    8599033  311   0  1936  78   0   0   1   19.0   3  207.0  48.037411\n",
      "26    8599033  311   0  1936  78   0   0   1   19.0   0   80.0  48.037411\n",
      "27    8599033  311   0  1936  78   0   0   1   19.0   2   65.0  48.037411\n",
      "28    8599033  311   0  1936  78   0   0   1   19.0   1  140.0  48.037411\n",
      "29    8599033  311   0  1936  78   0   0   8   41.0   3  207.0  48.037411\n",
      "...       ...  ...  ..   ...  ..  ..  ..  ..    ...  ..    ...        ...\n",
      "9969  8599260  137   1  1925  89   0   0   1    9.0   3  213.8  30.104471\n",
      "9970  8599260  137   1  1925  89   0   0   1    9.0   1  120.0  30.104471\n",
      "9971  8599260  137   1  1925  89   0   0   1    9.0   0   78.0  30.104471\n",
      "9972  8599260  137   1  1925  89   0   0   1    9.0   2   71.0  30.104471\n",
      "9973  8599260  137   1  1925  89   0   0   6  107.0   3  213.8  30.104471\n",
      "9974  8599260  137   1  1925  89   0   0   6  107.0   1  120.0  30.104471\n",
      "9975  8599260  137   1  1925  89   0   0   6  107.0   0   78.0  30.104471\n",
      "9976  8599260  137   1  1925  89   0   0   6  107.0   2   71.0  30.104471\n",
      "9977  8599261   45   1  1931  83   0   0   2   23.0   0   65.0  51.440874\n",
      "9978  8599261   45   1  1931  83   0   0   2   23.0   3  211.0  51.440874\n",
      "9979  8599261   45   1  1931  83   0   0   2   23.0   1  115.0  51.440874\n",
      "9980  8599261   45   1  1931  83   0   0   2   23.0   2   76.0  51.440874\n",
      "9981  8599261   45   1  1931  83   0   0   1   26.0   0   65.0  51.440874\n",
      "9982  8599261   45   1  1931  83   0   0   1   26.0   3  211.0  51.440874\n",
      "9983  8599261   45   1  1931  83   0   0   1   26.0   1  115.0  51.440874\n",
      "9984  8599261   45   1  1931  83   0   0   1   26.0   2   76.0  51.440874\n",
      "9985  8599265   66   1  1932  82   0   0   3    0.9   2   70.0  85.864348\n",
      "9986  8599265   66   1  1932  82   0   0   3    0.9   1  144.0  85.864348\n",
      "9987  8599265   66   1  1932  82   0   0   3    0.9   3  175.0  85.864348\n",
      "9988  8599265   66   1  1932  82   0   0   3    0.9   0   90.0  85.864348\n",
      "9989  8599265   66   1  1932  82   0   0   1   19.0   2   70.0  85.864348\n",
      "9990  8599265   66   1  1932  82   0   0   1   19.0   1  144.0  85.864348\n",
      "9991  8599265   66   1  1932  82   0   0   1   19.0   3  175.0  85.864348\n",
      "9992  8599265   66   1  1932  82   0   0   1   19.0   0   90.0  85.864348\n",
      "9993  8599265   66   1  1932  82   0   0   2   30.0   2   70.0  85.864348\n",
      "9994  8599265   66   1  1932  82   0   0   2   30.0   1  144.0  85.864348\n",
      "9995  8599265   66   1  1932  82   0   0   2   30.0   3  175.0  85.864348\n",
      "9996  8599265   66   1  1932  82   0   0   2   30.0   0   90.0  85.864348\n",
      "9997  8599265   66   1  1932  82   0   0   7   79.0   2   70.0  85.864348\n",
      "9998  8599265   66   1  1932  82   0   0   7   79.0   1  144.0  85.864348\n",
      "\n",
      "[9999 rows x 12 columns]\n"
     ]
    }
   ],
   "source": []
  },
  {
   "cell_type": "code",
   "execution_count": 8,
   "metadata": {
    "collapsed": false
   },
   "outputs": [
    {
     "name": "stdout",
     "output_type": "stream",
     "text": [
      "9999\n",
      "[Row(0=8599033, 1=285, 2=0, 3=1936, 4=78, 5=0, 6=0, 7=1, 8=28.0, 9=2, 10=65.0, 11=53.622461937473794), Row(0=8599033, 1=285, 2=0, 3=1936, 4=78, 5=0, 6=0, 7=8, 8=44.0, 9=3, 10=206.0, 11=53.622461937473794), Row(0=8599033, 1=285, 2=0, 3=1936, 4=78, 5=0, 6=0, 7=8, 8=44.0, 9=0, 10=70.0, 11=53.622461937473794), Row(0=8599033, 1=285, 2=0, 3=1936, 4=78, 5=0, 6=0, 7=8, 8=44.0, 9=1, 10=120.0, 11=53.622461937473794), Row(0=8599033, 1=285, 2=0, 3=1936, 4=78, 5=0, 6=0, 7=8, 8=44.0, 9=2, 10=65.0, 11=53.622461937473794)]\n"
     ]
    }
   ],
   "source": [
    "# TODO: Replace <FILL IN> with appropriate code\n",
    "numPoints = rawData.count()\n",
    "print numPoints\n",
    "samplePoints = rawData.take(5)\n",
    "print samplePoints"
   ]
  },
  {
   "cell_type": "code",
   "execution_count": 9,
   "metadata": {
    "collapsed": false
   },
   "outputs": [
    {
     "name": "stdout",
     "output_type": "stream",
     "text": [
      "1 test passed.\n",
      "1 test passed.\n"
     ]
    }
   ],
   "source": [
    "# TEST Load and check the data (1a)\n",
    "Test.assertEquals(numPoints, 9999, 'incorrect value for numPoints')\n",
    "Test.assertEquals(len(samplePoints), 5, 'incorrect length for samplePoints')"
   ]
  },
  {
   "cell_type": "markdown",
   "metadata": {},
   "source": [
    "#### ** Using `LabeledPoint` **\n",
    "#### In MLlib, labeled training instances are stored using the [LabeledPoint](https://spark.apache.org/docs/latest/api/python/pyspark.mllib.html#pyspark.mllib.regression.LabeledPoint) object.  Write the parsePoint function that takes as input a raw data point, parses it using Python's [unicode.split](https://docs.python.org/2/library/string.html#string.split) method, and returns a `LabeledPoint`.  Use this function to parse samplePoints (from the previous question).  Then print out the features and label for the first training point, using the `LabeledPoint.features` and `LabeledPoint.label` attributes. Finally, calculate the number features for this dataset.\n",
    "#### Note that `split()` can be called directly on a `unicode` or `str` object.  For example, `u'split,me'.split(',')` returns `[u'split', u'me']`."
   ]
  },
  {
   "cell_type": "code",
   "execution_count": 11,
   "metadata": {
    "collapsed": false
   },
   "outputs": [
    {
     "name": "stdout",
     "output_type": "stream",
     "text": [
      "First point: [0.0,1936.0,78.0,0.0,0.0,1.0,28.0,2.0,65.0] 53.6224619375\n",
      "# of features: 9\n"
     ]
    }
   ],
   "source": [
    "def parsePoint(line):\n",
    "    parsed_line = line\n",
    "#     parsed_line = line.split(',')\n",
    "#     return LabeledPoint(parsed_line[0], parsed_line[1:])\n",
    "    return LabeledPoint(parsed_line[-1], parsed_line[2:-1])\n",
    "\n",
    "# Making a pipelined RDD\n",
    "parsedSamplePoints = rawData.map(lambda x: parsePoint(x))\n",
    "\n",
    "# First point\n",
    "firstPointFeatures = parsedSamplePoints.first().features\n",
    "firstPointLabel = parsedSamplePoints.first().label\n",
    "print 'First point:', firstPointFeatures, firstPointLabel\n",
    "\n",
    "d = len(firstPointFeatures)\n",
    "print '# of features:', d"
   ]
  },
  {
   "cell_type": "markdown",
   "metadata": {},
   "source": [
    "#### **Visualization 1: Features**\n",
    "#### First we will load and setup the visualization library.  Then we will look at the raw features for 50 data points by generating a heatmap that visualizes each feature on a grey-scale and shows the variation of each feature across the 50 sample data points.  The features are all between 0 and 1, with values closer to 1 represented via darker shades of grey."
   ]
  },
  {
   "cell_type": "code",
   "execution_count": 13,
   "metadata": {
    "collapsed": false
   },
   "outputs": [
    {
     "data": {
      "image/png": "[encoded data removed]",
      "text/plain": [
       "<matplotlib.figure.Figure at 0x7ffa6e72ed90>"
      ]
     },
     "metadata": {},
     "output_type": "display_data"
    }
   ],
   "source": [
    "import matplotlib.pyplot as plt\n",
    "import matplotlib.cm as cm\n",
    "%matplotlib inline\n",
    "\n",
    "# sampleMorePoints = rawData.take(50)\n",
    "# You can uncomment the line below to see randomly selected features.  These will be randomly\n",
    "# selected each time you run the cell.  Note that you should run this cell with the line commented\n",
    "# out when answering the lab quiz questions.\n",
    "sampleMorePoints = rawData.takeSample(False, 50)\n",
    "\n",
    "parsedSampleMorePoints = map(parsePoint, sampleMorePoints)\n",
    "dataValues = map(lambda lp: lp.features.toArray(), parsedSampleMorePoints)\n",
    "\n",
    "def preparePlot(xticks, yticks, figsize=(10.5, 6), hideLabels=False, gridColor='#999999',\n",
    "                gridWidth=1.0):\n",
    "    \"\"\"Template for generating the plot layout.\"\"\"\n",
    "    plt.close()\n",
    "    fig, ax = plt.subplots(figsize=figsize, facecolor='white', edgecolor='white')\n",
    "    ax.axes.tick_params(labelcolor='#999999', labelsize='10')\n",
    "    for axis, ticks in [(ax.get_xaxis(), xticks), (ax.get_yaxis(), yticks)]:\n",
    "        axis.set_ticks_position('none')\n",
    "        axis.set_ticks(ticks)\n",
    "        axis.label.set_color('#999999')\n",
    "        if hideLabels: axis.set_ticklabels([])\n",
    "    plt.grid(color=gridColor, linewidth=gridWidth, linestyle='-')\n",
    "    map(lambda position: ax.spines[position].set_visible(False), ['bottom', 'top', 'left', 'right'])\n",
    "    return fig, ax\n",
    "\n",
    "# generate layout and plot\n",
    "fig, ax = preparePlot(np.arange(.5, 11, 1), np.arange(.5, 49, 1), figsize=(8,7), hideLabels=True,\n",
    "                      gridColor='#eeeeee', gridWidth=1.1)\n",
    "image = plt.imshow(dataValues,interpolation='nearest', aspect='auto', cmap=cm.Greys)\n",
    "for x, y, s in zip(np.arange(-.125, 12, 1), np.repeat(-.75, 12), [str(x) for x in range(12)]):\n",
    "    plt.text(x, y, s, color='#999999', size='10')\n",
    "plt.text(4.7, -3, 'Feature', color='#999999', size='11'), ax.set_ylabel('Observation')\n",
    "pass"
   ]
  },
  {
   "cell_type": "markdown",
   "metadata": {},
   "source": [
    "#### ** Find the range **\n",
    "#### Now let's examine the labels to find the range of song years.  To do this, first parse each element of the `rawData` RDD, and then find the smallest and largest labels."
   ]
  },
  {
   "cell_type": "code",
   "execution_count": 14,
   "metadata": {
    "collapsed": false
   },
   "outputs": [
    {
     "name": "stdout",
     "output_type": "stream",
     "text": [
      "116.537218133 19.9203425275\n",
      "gfr range: 96.6168756056\n"
     ]
    }
   ],
   "source": [
    "parsedDataInit = rawData.map(lambda x: parsePoint(x))\n",
    "onlyLabels = parsedDataInit.map(lambda x: x.label)\n",
    "minGfr = onlyLabels.min()\n",
    "maxGfr = onlyLabels.max()\n",
    "print maxGfr, minGfr\n",
    "gfrRange = maxGfr - minGfr\n",
    "print 'gfr range:', gfrRange"
   ]
  },
  {
   "cell_type": "markdown",
   "metadata": {},
   "source": [
    "#### **Shift labels **\n",
    "#### As we just saw, the labels are years in the 1900s and 2000s.  In learning problems, it is often natural to shift labels such that they start from zero.  Starting with `parsedDataInit`, create a new RDD consisting of `LabeledPoint` objects in which the labels are shifted such that smallest label equals zero."
   ]
  },
  {
   "cell_type": "code",
   "execution_count": 15,
   "metadata": {
    "collapsed": false
   },
   "outputs": [
    {
     "name": "stdout",
     "output_type": "stream",
     "text": [
      "[LabeledPoint(53.6224619375, [0.0,1936.0,78.0,0.0,0.0,1.0,28.0,2.0,65.0])]\n",
      "[LabeledPoint(33.70211941, [0.0,1936.0,78.0,0.0,0.0,1.0,28.0,2.0,65.0])]\n"
     ]
    }
   ],
   "source": [
    "\n",
    "print '{0}'.format(parsedDataInit.take(1))\n",
    "parsedData = parsedDataInit.map(lambda x: LabeledPoint((x.label - minGfr), x.features))\n",
    "\n",
    "# Should be a LabeledPoint\n",
    "# print type(parsedData.take(1)[0])\n",
    "# View the first point\n",
    "print '{0}'.format(parsedData.take(1))"
   ]
  },
  {
   "cell_type": "code",
   "execution_count": 16,
   "metadata": {
    "collapsed": false
   },
   "outputs": [
    {
     "name": "stdout",
     "output_type": "stream",
     "text": [
      "1 test passed.\n",
      "1 test failed. parsedData has unexpected values\n",
      "0.0 96.6168756056\n",
      "1 test passed.\n",
      "1 test failed. incorrect max year in shifted data\n"
     ]
    }
   ],
   "source": [
    "oldSampleFeatures = parsedDataInit.take(1)[0].features\n",
    "newSampleFeatures = parsedData.take(1)[0].features\n",
    "Test.assertTrue(np.allclose(oldSampleFeatures, newSampleFeatures),\n",
    "                'new features do not match old features')\n",
    "sumFeatTwo = parsedData.map(lambda lp: lp.features[2]).sum()\n",
    "Test.assertTrue(np.allclose(sumFeatTwo, 3158.96224351), 'parsedData has unexpected values')\n",
    "minYearNew = parsedData.map(lambda lp: lp.label).min()\n",
    "maxYearNew = parsedData.map(lambda lp: lp.label).max()\n",
    "print minYearNew, maxYearNew\n",
    "Test.assertTrue(minYearNew == 0, 'incorrect min year in shifted data')\n",
    "Test.assertTrue(maxYearNew == 89, 'incorrect max year in shifted data')"
   ]
  },
  {
   "cell_type": "markdown",
   "metadata": {},
   "source": [
    "#### ** Visualization 2: Shifting labels **\n",
    "#### We will look at the labels before and after shifting them.  Both scatter plots below visualize tuples storing i) a label value and ii) the number of training points with this label.  The first scatter plot uses the initial labels, while the second one uses the shifted labels.  Note that the two plots look the same except for the labels on the x-axis."
   ]
  },
  {
   "cell_type": "code",
   "execution_count": 17,
   "metadata": {
    "collapsed": false
   },
   "outputs": [
    {
     "name": "stderr",
     "output_type": "stream",
     "text": [
      "/home/castamere/anaconda2/lib/python2.7/site-packages/matplotlib/collections.py:590: FutureWarning: elementwise comparison failed; returning scalar instead, but in the future will perform elementwise comparison\n",
      "  if self._edgecolors == str('face'):\n"
     ]
    },
    {
     "data": {
      "image/png": "[encoded data removed]",
      "text/plain": [
       "<matplotlib.figure.Figure at 0x7ffa6e5e1690>"
      ]
     },
     "metadata": {},
     "output_type": "display_data"
    }
   ],
   "source": [
    "# get data for plot\n",
    "oldData = (parsedDataInit\n",
    "           .map(lambda lp: (lp.label, 1))\n",
    "           .reduceByKey(lambda x, y: x + y)\n",
    "           .collect())\n",
    "x, y = zip(*oldData)\n",
    "\n",
    "# generate layout and plot data\n",
    "fig, ax = preparePlot(np.arange(0, 200, 20), np.arange(0, 300, 20))\n",
    "plt.scatter(x, y, s=14**2, alpha=0.55)\n",
    "ax.set_xlabel('eGFR'), ax.set_ylabel('Count')\n",
    "pass"
   ]
  },
  {
   "cell_type": "code",
   "execution_count": 18,
   "metadata": {
    "collapsed": false
   },
   "outputs": [
    {
     "data": {
      "image/png": "[encoded data removed]",
      "text/plain": [
       "<matplotlib.figure.Figure at 0x7ffa6e4c9b50>"
      ]
     },
     "metadata": {},
     "output_type": "display_data"
    }
   ],
   "source": [
    "# get data for plot\n",
    "newData = (parsedData\n",
    "           .map(lambda lp: (lp.label, 1))\n",
    "           .reduceByKey(lambda x, y: x + y)\n",
    "           .collect())\n",
    "x, y = zip(*newData)\n",
    "\n",
    "# generate layout and plot data\n",
    "fig, ax = preparePlot(np.arange(0, 200, 20), np.arange(0, 300, 20))\n",
    "plt.scatter(x, y, s=14**2, alpha=0.55)\n",
    "ax.set_xlabel('eGFR (shifted)'), ax.set_ylabel('Count')\n",
    "pass"
   ]
  },
  {
   "cell_type": "markdown",
   "metadata": {},
   "source": [
    "#### ** Training, validation, and test sets **\n",
    "#### We're almost done parsing our dataset, and our final task involves split it into training, validation and test sets. Use the [randomSplit method](https://spark.apache.org/docs/latest/api/python/pyspark.html#pyspark.RDD.randomSplit) with the specified weights and seed to create RDDs storing each of these datasets. Next, cache each of these RDDs, as we will be accessing them multiple times in the remainder of this lab. Finally, compute the size of each dataset and verify that the sum of their sizes equals the value computed in Part (1a)."
   ]
  },
  {
   "cell_type": "code",
   "execution_count": 19,
   "metadata": {
    "collapsed": false
   },
   "outputs": [
    {
     "name": "stdout",
     "output_type": "stream",
     "text": [
      "8052 984 963 9999\n",
      "9999\n"
     ]
    }
   ],
   "source": [
    "# TODO: Replace <FILL IN> with appropriate code\n",
    "weights = [.8, .1, .1]\n",
    "seed = 42\n",
    "parsedTrainData, parsedValData, parsedTestData = parsedData.randomSplit(weights, seed)\n",
    "parsedTrainData.cache()\n",
    "parsedValData.cache()\n",
    "parsedTestData.cache()\n",
    "nTrain = parsedTrainData.count()\n",
    "nVal = parsedValData.count()\n",
    "nTest = parsedTestData.count()\n",
    "\n",
    "print nTrain, nVal, nTest, nTrain + nVal + nTest\n",
    "print parsedData.count()"
   ]
  },
  {
   "cell_type": "markdown",
   "metadata": {},
   "source": [
    "### ** Create and evaluate a baseline model **"
   ]
  },
  {
   "cell_type": "markdown",
   "metadata": {},
   "source": [
    "#### **Average label **\n",
    "#### A very simple yet natural baseline model is one where we always make the same prediction independent of the given data point, using the average label in the training set as the constant prediction value.  Compute this value, which is the average (shifted) song year for the training set.  Use an appropriate method in the [RDD API](https://spark.apache.org/docs/latest/api/python/pyspark.html#pyspark.RDD)."
   ]
  },
  {
   "cell_type": "code",
   "execution_count": 20,
   "metadata": {
    "collapsed": false
   },
   "outputs": [
    {
     "name": "stdout",
     "output_type": "stream",
     "text": [
      "42.2852824237\n"
     ]
    }
   ],
   "source": [
    "averageTrainGfr = (parsedTrainData\n",
    "                    .map(lambda x: x.label).reduce(lambda a, b: a + b)) / nTrain\n",
    "print averageTrainGfr"
   ]
  },
  {
   "cell_type": "markdown",
   "metadata": {},
   "source": [
    "#### **Root mean squared error **\n",
    "#### We naturally would like to see how well this naive baseline performs.  We will use root mean squared error ([RMSE](http://en.wikipedia.org/wiki/Root-mean-square_deviation)) for evaluation purposes.  Implement a function to compute RMSE given an RDD of (label, prediction) tuples, and test out this function on an example."
   ]
  },
  {
   "cell_type": "code",
   "execution_count": 21,
   "metadata": {
    "collapsed": false
   },
   "outputs": [
    {
     "name": "stdout",
     "output_type": "stream",
     "text": [
      "1.29099444874\n"
     ]
    }
   ],
   "source": [
    "# TODO: Replace <FILL IN> with appropriate code\n",
    "def squaredError(label, prediction):\n",
    "    return (label - prediction) ** 2\n",
    "\n",
    "def calcRMSE(labelsAndPreds):\n",
    "    return ((labelsAndPreds\n",
    "            .map(lambda x: squaredError(x[0], x[1]))\n",
    "            .reduce(lambda a, b: a + b)) / labelsAndPreds.count()) ** 0.5\n",
    "\n",
    "# RMSE test\n",
    "labelsAndPreds = sc.parallelize([(3., 1.), (1., 2.), (2., 2.)])\n",
    "# RMSE = sqrt[((3-1)^2 + (1-2)^2 + (2-2)^2) / 3] = 1.291\n",
    "exampleRMSE = calcRMSE(labelsAndPreds)\n",
    "print exampleRMSE"
   ]
  },
  {
   "cell_type": "markdown",
   "metadata": {},
   "source": [
    "#### **Training, validation and test RMSE **\n",
    "#### Now let's calculate the training, validation and test RMSE of our baseline model. To do this, first create RDDs of (label, prediction) tuples for each dataset, and then call calcRMSE. Note that each RMSE can be interpreted as the average prediction error for the given dataset (in terms of number of years)."
   ]
  },
  {
   "cell_type": "code",
   "execution_count": 22,
   "metadata": {
    "collapsed": false
   },
   "outputs": [
    {
     "name": "stdout",
     "output_type": "stream",
     "text": [
      "Baseline Train RMSE = 15.791\n",
      "Baseline Validation RMSE = 15.907\n",
      "Baseline Test RMSE = 16.696\n"
     ]
    }
   ],
   "source": [
    "labelsAndPredsTrain = parsedTrainData.map(lambda x : (x.label, averageTrainGfr))\n",
    "rmseTrainBase = calcRMSE(labelsAndPredsTrain)\n",
    "\n",
    "labelsAndPredsVal = parsedValData.map(lambda x : (x.label, averageTrainGfr))\n",
    "rmseValBase = calcRMSE(labelsAndPredsVal)\n",
    "\n",
    "labelsAndPredsTest = parsedTestData.map(lambda x : (x.label, averageTrainGfr))\n",
    "rmseTestBase = calcRMSE(labelsAndPredsTest)\n",
    "\n",
    "print 'Baseline Train RMSE = {0:.3f}'.format(rmseTrainBase)\n",
    "print 'Baseline Validation RMSE = {0:.3f}'.format(rmseValBase)\n",
    "print 'Baseline Test RMSE = {0:.3f}'.format(rmseTestBase)"
   ]
  },
  {
   "cell_type": "markdown",
   "metadata": {},
   "source": [
    "#### ** Predicted vs. actual **\n",
    "#### We will visualize predictions on the validation dataset. The scatter plots below visualize tuples storing i) the predicted value and ii) true label.  The first scatter plot represents the ideal situation where the predicted value exactly equals the true label, while the second plot uses the baseline predictor (i.e., `averageTrainYear`) for all predicted values.  Further note that the points in the scatter plots are color-coded, ranging from light yellow when the true and predicted values are equal to bright red when they drastically differ."
   ]
  },
  {
   "cell_type": "code",
   "execution_count": 23,
   "metadata": {
    "collapsed": false
   },
   "outputs": [
    {
     "data": {
      "image/png": "[encoded data removed]",
      "text/plain": [
       "<matplotlib.figure.Figure at 0x7ffa6e6e3210>"
      ]
     },
     "metadata": {},
     "output_type": "display_data"
    }
   ],
   "source": [
    "from matplotlib.colors import ListedColormap, Normalize\n",
    "from matplotlib.cm import get_cmap\n",
    "cmap = get_cmap('copper_r')\n",
    "norm = Normalize()\n",
    "\n",
    "actual = np.asarray(parsedValData\n",
    "                    .map(lambda lp: lp.label)\n",
    "                    .collect())\n",
    "error = np.asarray(parsedValData\n",
    "                   .map(lambda lp: (lp.label, lp.label))\n",
    "                   .map(lambda (l, p): squaredError(l, p))\n",
    "                   .collect())\n",
    "clrs = cmap(np.asarray(norm(error)))[:,0:3]\n",
    "\n",
    "fig, ax = preparePlot(np.arange(0, 100, 20), np.arange(0, 100, 20))\n",
    "plt.scatter(actual, actual, s=14**2, c=clrs, edgecolors='#888888', alpha=0.75, linewidths=0.5)\n",
    "ax.set_xlabel('Predicted'), ax.set_ylabel('Actual')\n",
    "pass"
   ]
  },
  {
   "cell_type": "code",
   "execution_count": 24,
   "metadata": {
    "collapsed": false
   },
   "outputs": [
    {
     "data": {
      "text/plain": [
       "(<matplotlib.text.Text at 0x7ffa6aa2da50>,\n",
       " <matplotlib.text.Text at 0x7ffa6aa56510>)"
      ]
     },
     "execution_count": 24,
     "metadata": {},
     "output_type": "execute_result"
    },
    {
     "data": {
      "image/png": "[encoded data removed]",
      "text/plain": [
       "<matplotlib.figure.Figure at 0x7ffa6aa435d0>"
      ]
     },
     "metadata": {},
     "output_type": "display_data"
    }
   ],
   "source": [
    "predictions = np.asarray(parsedValData\n",
    "                         .map(lambda lp: averageTrainGfr)\n",
    "                         .collect())\n",
    "error = np.asarray(parsedValData\n",
    "                   .map(lambda lp: (lp.label, averageTrainGfr))\n",
    "                   .map(lambda (l, p): squaredError(l, p))\n",
    "                   .collect())\n",
    "norm = Normalize()\n",
    "clrs = cmap(np.asarray(norm(error)))[:,0:3]\n",
    "\n",
    "fig, ax = preparePlot(np.arange(40.0, 43.0, 0.5), np.arange(0, 100, 20))\n",
    "ax.set_xlim(40, 43)\n",
    "plt.scatter(predictions, actual, s=14**2, c=clrs, edgecolors='#888888', alpha=0.75, linewidths=0.3)\n",
    "ax.set_xlabel('Predicted'), ax.set_ylabel('Actual')"
   ]
  },
  {
   "cell_type": "markdown",
   "metadata": {},
   "source": [
    "### ** Train using MLlib and perform grid search **"
   ]
  },
  {
   "cell_type": "markdown",
   "metadata": {},
   "source": [
    "#### **`LinearRegressionWithSGD` **\n",
    "#### We're already doing better than the baseline model, but let's see if we can do better by adding an intercept, using regularization, and (based on the previous visualization) training for more iterations.  MLlib's [LinearRegressionWithSGD](https://spark.apache.org/docs/latest/api/python/pyspark.mllib.html#pyspark.mllib.regression.LinearRegressionWithSGD) essentially implements the same algorithm that we implemented in Part (3b), albeit more efficiently and with various additional functionality, such as stochastic gradient approximation, including an intercept in the model and also allowing L1 or L2 regularization.  First use LinearRegressionWithSGD to train a model with L2 regularization and with an intercept.  This method returns a [LinearRegressionModel](https://spark.apache.org/docs/latest/api/python/pyspark.mllib.html#pyspark.mllib.regression.LinearRegressionModel).  Next, use the model's [weights](http://spark.apache.org/docs/latest/api/python/pyspark.mllib.html#pyspark.mllib.regression.LinearRegressionModel.weights) and [intercept](http://spark.apache.org/docs/latest/api/python/pyspark.mllib.html#pyspark.mllib.regression.LinearRegressionModel.intercept) attributes to print out the model's parameters."
   ]
  },
  {
   "cell_type": "code",
   "execution_count": null,
   "metadata": {
    "collapsed": false
   },
   "outputs": [],
   "source": [
    "from pyspark.mllib.regression import LinearRegressionWithSGD\n",
    "from pyspark.mllib.regression import LinearRegressionModel"
   ]
  },
  {
   "cell_type": "markdown",
   "metadata": {},
   "source": [
    "# Weights are all negative.\n",
    "# And negative prediction"
   ]
  },
  {
   "cell_type": "code",
   "execution_count": null,
   "metadata": {
    "collapsed": false
   },
   "outputs": [],
   "source": [
    "x = parsedTrainData.collect()\n",
    "print len(x)"
   ]
  },
  {
   "cell_type": "code",
   "execution_count": null,
   "metadata": {
    "collapsed": false
   },
   "outputs": [],
   "source": [
    "from pyspark.ml.regression import LinearRegression\n",
    "\n",
    "lr = LinearRegression(maxIter=50, regParam=0.3, elasticNetParam=0.8)\n",
    "\n",
    "# Fit the model\n",
    "lrModel = lr.fit(parsedTrainData.toDF())\n",
    "\n",
    "# Print the weights and intercept for linear regression\n",
    "print(\"Weights: \" + str(lrModel.weights))\n",
    "print(\"Intercept: \" + str(lrModel.intercept))"
   ]
  },
  {
   "cell_type": "code",
   "execution_count": null,
   "metadata": {
    "collapsed": false
   },
   "outputs": [],
   "source": []
  },
  {
   "cell_type": "code",
   "execution_count": null,
   "metadata": {
    "collapsed": false
   },
   "outputs": [],
   "source": [
    "# Values to use when training the linear regression model\n",
    "numIters = 50  # iterations\n",
    "alpha = 0.2  # step\n",
    "miniBatchFrac = 1.0  # miniBatchFraction\n",
    "reg = 1e-1  # regParam\n",
    "regType = 'l2'  # regType\n",
    "useIntercept = True  # intercept\n",
    "\n",
    "# Train\n",
    "firstModel = LinearRegressionWithSGD.train(parsedTrainData, iterations=numIters, step=alpha, miniBatchFraction=miniBatchFrac, initialWeights=None, regParam=reg, regType=regType, intercept=useIntercept)\n",
    "\n",
    "# weightsLR1 stores the model weights; interceptLR1 stores the model intercept\n",
    "weightsLR1 = firstModel.weights\n",
    "interceptLR1 = firstModel.intercept\n",
    "print weightsLR1, interceptLR1"
   ]
  },
  {
   "cell_type": "code",
   "execution_count": null,
   "metadata": {
    "collapsed": false
   },
   "outputs": [],
   "source": [
    "# TEST LinearRegressionWithSGD (4a)\n",
    "expectedIntercept = 13.3335907631\n",
    "expectedWeights = [16.682292427, 14.7439059559, -0.0935105608897, 6.22080088829, 4.01454261926, -3.30214858535,\n",
    "                   11.0403027232, 2.67190962854, 7.18925791279, 4.46093254586, 8.14950409475, 2.75135810882]\n",
    "Test.assertTrue(np.allclose(interceptLR1, expectedIntercept), 'incorrect value for interceptLR1')\n",
    "Test.assertTrue(np.allclose(weightsLR1, expectedWeights), 'incorrect value for weightsLR1')"
   ]
  },
  {
   "cell_type": "markdown",
   "metadata": {},
   "source": [
    "#### **(4b) Predict**\n",
    "#### Now use the [LinearRegressionModel.predict()](http://spark.apache.org/docs/latest/api/python/pyspark.mllib.html#pyspark.mllib.regression.LinearRegressionModel.predict) method to make a prediction on a sample point.  Pass the `features` from a `LabeledPoint` into the `predict()` method."
   ]
  },
  {
   "cell_type": "code",
   "execution_count": null,
   "metadata": {
    "collapsed": false
   },
   "outputs": [],
   "source": [
    "# TODO: Replace <FILL IN> with appropriate code\n",
    "samplePoint = parsedTrainData.take(1)[0]\n",
    "samplePrediction = firstModel.predict(samplePoint.features)\n",
    "# samplePrediction = weightsLR1.dot(samplePoint.features) + interceptLR1\n",
    "print samplePrediction"
   ]
  },
  {
   "cell_type": "code",
   "execution_count": null,
   "metadata": {
    "collapsed": false
   },
   "outputs": [],
   "source": [
    "# TEST Predict (4b)\n",
    "Test.assertTrue(np.allclose(samplePrediction, 56.8013380112),\n",
    "                'incorrect value for samplePrediction')"
   ]
  },
  {
   "cell_type": "markdown",
   "metadata": {},
   "source": [
    "#### ** (4c) Evaluate RMSE **\n",
    "#### Next evaluate the accuracy of this model on the validation set.  Use the `predict()` method to create a `labelsAndPreds` RDD, and then use the `calcRMSE()` function from Part (2b)."
   ]
  },
  {
   "cell_type": "code",
   "execution_count": null,
   "metadata": {
    "collapsed": false
   },
   "outputs": [],
   "source": [
    "# TODO: Replace <FILL IN> with appropriate code\n",
    "labelsAndPreds = parsedValData.map(lambda x : (x.label, firstModel.predict(x.features)))\n",
    "rmseValLR1 = calcRMSE(labelsAndPreds)\n",
    "\n",
    "print ('Validation RMSE:\\n\\tBaseline = {0:.3f}\\n\\tLR0 = {1:.3f}' +\n",
    "       '\\n\\tLR1 = {2:.3f}').format(rmseValBase, rmseValLR0, rmseValLR1)"
   ]
  },
  {
   "cell_type": "code",
   "execution_count": null,
   "metadata": {
    "collapsed": false
   },
   "outputs": [],
   "source": [
    "# Ground truth labels v/s predictions\n",
    "print labelsAndPreds.collect()[:10]"
   ]
  },
  {
   "cell_type": "code",
   "execution_count": null,
   "metadata": {
    "collapsed": false
   },
   "outputs": [],
   "source": [
    "# TEST Evaluate RMSE (4c)\n",
    "Test.assertTrue(np.allclose(rmseValLR1, 19.691247), 'incorrect value for rmseValLR1')"
   ]
  },
  {
   "cell_type": "markdown",
   "metadata": {},
   "source": [
    "#### ** (4d) Grid search **\n",
    "#### We're already outperforming the baseline on the validation set by almost 2 years on average, but let's see if we can do better. Perform grid search to find a good regularization parameter.  Try `regParam` values `1e-10`, `1e-5`, and `1`."
   ]
  },
  {
   "cell_type": "code",
   "execution_count": null,
   "metadata": {
    "collapsed": false
   },
   "outputs": [],
   "source": [
    "# TODO: Replace <FILL IN> with appropriate code\n",
    "bestRMSE = rmseValLR1\n",
    "bestRegParam = reg\n",
    "bestModel = firstModel\n",
    "\n",
    "numIters = 500\n",
    "alpha = 1.0\n",
    "miniBatchFrac = 1.0\n",
    "for reg in [1e-10, 1e-5, 1]:\n",
    "    model = LinearRegressionWithSGD.train(parsedTrainData, numIters, alpha,\n",
    "                                          miniBatchFrac, regParam=reg,\n",
    "                                          regType='l2', intercept=True)\n",
    "    labelsAndPreds = parsedValData.map(lambda lp: (lp.label, model.predict(lp.features)))\n",
    "    rmseValGrid = calcRMSE(labelsAndPreds)\n",
    "    print rmseValGrid\n",
    "\n",
    "    if rmseValGrid < bestRMSE:\n",
    "        bestRMSE = rmseValGrid\n",
    "        bestRegParam = reg\n",
    "        bestModel = model\n",
    "rmseValLRGrid = bestRMSE\n",
    "\n",
    "print ('Validation RMSE:\\n\\tBaseline = {0:.3f}\\n\\tLR0 = {1:.3f}\\n\\tLR1 = {2:.3f}\\n' +\n",
    "       '\\tLRGrid = {3:.3f}').format(rmseValBase, rmseValLR0, rmseValLR1, rmseValLRGrid)"
   ]
  },
  {
   "cell_type": "code",
   "execution_count": null,
   "metadata": {
    "collapsed": false
   },
   "outputs": [],
   "source": [
    "# TEST Grid search (4d)\n",
    "Test.assertTrue(np.allclose(17.017170, rmseValLRGrid), 'incorrect value for rmseValLRGrid')"
   ]
  },
  {
   "cell_type": "markdown",
   "metadata": {},
   "source": [
    "#### ** Visualization 5: Best model's predictions**\n",
    "#### Next, we create a visualization similar to 'Visualization 3: Predicted vs. actual' from Part 2 using the predictions from the best model from Part (4d) on the validation dataset.  Specifically, we create a color-coded scatter plot visualizing tuples storing i) the predicted value from this model and ii) true label."
   ]
  },
  {
   "cell_type": "code",
   "execution_count": null,
   "metadata": {
    "collapsed": false
   },
   "outputs": [],
   "source": [
    "predictions = np.asarray(parsedValData\n",
    "                         .map(lambda lp: bestModel.predict(lp.features))\n",
    "                         .collect())\n",
    "actual = np.asarray(parsedValData\n",
    "                    .map(lambda lp: lp.label)\n",
    "                    .collect())\n",
    "error = np.asarray(parsedValData\n",
    "                   .map(lambda lp: (lp.label, bestModel.predict(lp.features)))\n",
    "                   .map(lambda (l, p): squaredError(l, p))\n",
    "                   .collect())\n",
    "\n",
    "norm = Normalize()\n",
    "clrs = cmap(np.asarray(norm(error)))[:,0:3]\n",
    "\n",
    "fig, ax = preparePlot(np.arange(0, 120, 20), np.arange(0, 120, 20))\n",
    "ax.set_xlim(15, 82), ax.set_ylim(-5, 105)\n",
    "plt.scatter(predictions, actual, s=14**2, c=clrs, edgecolors='#888888', alpha=0.75, linewidths=.5)\n",
    "ax.set_xlabel('Predicted'), ax.set_ylabel(r'Actual')\n",
    "pass"
   ]
  },
  {
   "cell_type": "markdown",
   "metadata": {},
   "source": [
    "#### ** (4e) Vary alpha and the number of iterations **\n",
    "#### In the previous grid search, we set `alpha = 1` for all experiments.  Now let's see what happens when we vary `alpha`.  Specifically, try `1e-5` and `10` as values for `alpha` and also try training models for 500 iterations (as before) but also for 5 iterations. Evaluate all models on the validation set.  Note that if we set `alpha` too small the gradient descent will require a huge number of steps to converge to the solution, and if we use too large of an `alpha` it can cause numerical problems, like you'll see below for `alpha = 10`."
   ]
  },
  {
   "cell_type": "code",
   "execution_count": null,
   "metadata": {
    "collapsed": false
   },
   "outputs": [],
   "source": [
    "# TODO: Replace <FILL IN> with appropriate code\n",
    "reg = bestRegParam\n",
    "modelRMSEs = []\n",
    "\n",
    "for alpha in [1e-5, 10]:\n",
    "    for numIters in [5, 500]:\n",
    "        model = LinearRegressionWithSGD.train(parsedTrainData, numIters, alpha,\n",
    "                                              miniBatchFrac, regParam=reg,\n",
    "                                              regType='l2', intercept=True)\n",
    "        labelsAndPreds = parsedValData.map(lambda lp: (lp.label, model.predict(lp.features)))\n",
    "        rmseVal = calcRMSE(labelsAndPreds)\n",
    "        print 'alpha = {0:.0e}, numIters = {1}, RMSE = {2:.3f}'.format(alpha, numIters, rmseVal)\n",
    "        modelRMSEs.append(rmseVal)"
   ]
  },
  {
   "cell_type": "code",
   "execution_count": null,
   "metadata": {
    "collapsed": false
   },
   "outputs": [],
   "source": [
    "# TEST Vary alpha and the number of iterations (4e)\n",
    "expectedResults = sorted([56.969705, 56.892949, 355124752.221221])\n",
    "Test.assertTrue(np.allclose(sorted(modelRMSEs)[:3], expectedResults), 'incorrect value for modelRMSEs')"
   ]
  },
  {
   "cell_type": "markdown",
   "metadata": {},
   "source": [
    "#### **Hyperparameter heat map **\n",
    "#### Next, we perform a visualization of hyperparameter search using a larger set of hyperparameters (with precomputed results).  Specifically, we create a heat map where the brighter colors correspond to lower RMSE values.  The first plot has a large area with brighter colors.  In order to differentiate within the bright region, we generate a second plot corresponding to the hyperparameters found within that region."
   ]
  },
  {
   "cell_type": "code",
   "execution_count": null,
   "metadata": {
    "collapsed": false
   },
   "outputs": [],
   "source": [
    "from matplotlib.colors import LinearSegmentedColormap\n",
    "\n",
    "# Saved parameters and results, to save the time required to run 36 models\n",
    "numItersParams = [10, 50, 100, 250, 500, 1000]\n",
    "regParams = [1e-8, 1e-6, 1e-4, 1e-2, 1e-1, 1]\n",
    "rmseVal = np.array([[  20.36769649,   20.36770128,   20.36818057,   20.41795354,  21.09778437,  301.54258421],\n",
    "                    [  19.04948826,   19.0495    ,   19.05067418,   19.16517726,  19.97967727,   23.80077467],\n",
    "                    [  18.40149024,   18.40150998,   18.40348326,   18.59457491,  19.82155716,   23.80077467],\n",
    "                    [  17.5609346 ,   17.56096749,   17.56425511,   17.88442127,  19.71577117,   23.80077467],\n",
    "                    [  17.0171705 ,   17.01721288,   17.02145207,   17.44510574,  19.69124734,   23.80077467],\n",
    "                    [  16.58074813,   16.58079874,   16.58586512,   17.11466904,  19.6860931 ,   23.80077467]])\n",
    "\n",
    "numRows, numCols = len(numItersParams), len(regParams)\n",
    "rmseVal = np.array(rmseVal)\n",
    "rmseVal.shape = (numRows, numCols)\n",
    "\n",
    "fig, ax = preparePlot(np.arange(0, numCols, 1), np.arange(0, numRows, 1), figsize=(8, 7), hideLabels=True,\n",
    "                      gridWidth=0.)\n",
    "ax.set_xticklabels(regParams), ax.set_yticklabels(numItersParams)\n",
    "ax.set_xlabel('Regularization Parameter'), ax.set_ylabel('Number of Iterations')\n",
    "\n",
    "colors = LinearSegmentedColormap.from_list('blue', ['#0022ff', '#000055'], gamma=.2)\n",
    "image = plt.imshow(rmseVal,interpolation='nearest', aspect='auto',\n",
    "                    cmap = colors)"
   ]
  },
  {
   "cell_type": "code",
   "execution_count": null,
   "metadata": {
    "collapsed": false
   },
   "outputs": [],
   "source": [
    "# Zoom into the bottom left\n",
    "numItersParamsZoom, regParamsZoom = numItersParams[-3:], regParams[:4]\n",
    "rmseValZoom = rmseVal[-3:, :4]\n",
    "\n",
    "numRows, numCols = len(numItersParamsZoom), len(regParamsZoom)\n",
    "\n",
    "fig, ax = preparePlot(np.arange(0, numCols, 1), np.arange(0, numRows, 1), figsize=(8, 7), hideLabels=True,\n",
    "                      gridWidth=0.)\n",
    "ax.set_xticklabels(regParamsZoom), ax.set_yticklabels(numItersParamsZoom)\n",
    "ax.set_xlabel('Regularization Parameter'), ax.set_ylabel('Number of Iterations')\n",
    "\n",
    "colors = LinearSegmentedColormap.from_list('blue', ['#0022ff', '#000055'], gamma=.2)\n",
    "image = plt.imshow(rmseValZoom,interpolation='nearest', aspect='auto',\n",
    "                    cmap = colors)\n",
    "pass"
   ]
  },
  {
   "cell_type": "markdown",
   "metadata": {},
   "source": [
    "#### ** Evaluate interaction model on test data **\n",
    "#### Our final step is to evaluate the new model on the test dataset.  Note that we haven't used the test set to evaluate any of our models.  Because of this, our evaluation provides us with an unbiased estimate for how our model will perform on new data.  If we had changed our model based on viewing its performance on the test set, our estimate of RMSE would likely be overly optimistic.\n",
    "#### We'll also print the RMSE for both the baseline model and our new model.  With this information, we can see how much better our model performs than the baseline model."
   ]
  },
  {
   "cell_type": "code",
   "execution_count": null,
   "metadata": {
    "collapsed": false
   },
   "outputs": [],
   "source": [
    "labelsAndPredsTest = testDataInteract.map(lambda lp: (lp.label, modelInteract.predict(lp.features)))\n",
    "rmseTestInteract = calcRMSE(labelsAndPredsTest)\n",
    "\n",
    "print ('Test RMSE:\\n\\tBaseline = {0:.3f}\\n\\tLRInteract = {1:.3f}'\n",
    "       .format(rmseTestBase, rmseTestInteract))"
   ]
  }
 ],
 "metadata": {
  "kernelspec": {
   "display_name": "Python 2",
   "language": "python",
   "name": "python2"
  },
  "language_info": {
   "codemirror_mode": {
    "name": "ipython",
    "version": 2
   },
   "file_extension": ".py",
   "mimetype": "text/x-python",
   "name": "python",
   "nbconvert_exporter": "python",
   "pygments_lexer": "ipython2",
   "version": "2.7.10"
  }
 },
 "nbformat": 4,
 "nbformat_minor": 0
}
