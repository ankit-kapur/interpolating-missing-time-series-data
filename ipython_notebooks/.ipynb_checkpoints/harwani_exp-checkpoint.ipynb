{
 "cells": [
  {
   "cell_type": "markdown",
   "metadata": {},
   "source": [
    "# Parsing the datasets\n",
    "\n",
    "### Importing libraries"
   ]
  },
  {
   "cell_type": "code",
   "execution_count": 1,
   "metadata": {
    "collapsed": false
   },
   "outputs": [
    {
     "name": "stdout",
     "output_type": "stream",
     "text": [
      "All libraries loaded.\n"
     ]
    }
   ],
   "source": [
    "# Numpy\n",
    "import numpy as np\n",
    "from numpy import concatenate, array\n",
    "from numpy.random import randn\n",
    "# Decimal precision value to display in the matrix\n",
    "np.set_printoptions(precision=5, suppress=True)\n",
    "\n",
    "# Scipy\n",
    "import scipy\n",
    "import scipy.stats as stats\n",
    "\n",
    "# Matplotlib\n",
    "import matplotlib.pyplot as pyplot\n",
    "import matplotlib.cm as cm\n",
    "import matplotlib.dates as mdates\n",
    "import matplotlib.pyplot as plt\n",
    "import matplotlib.dates as mdates\n",
    "%matplotlib inline\n",
    "#mpl.rc('figure', figsize=(10, 8))\n",
    "\n",
    "# DBscan from sklearn\n",
    "from sklearn import cluster, datasets\n",
    "from sklearn.cluster import DBSCAN\n",
    "from sklearn import metrics\n",
    "from sklearn.datasets.samples_generator import make_blobs\n",
    "from sklearn.preprocessing import StandardScaler\n",
    "\n",
    "# Pandas experiments\n",
    "import pandas as pd\n",
    "from pandas import Series, DataFrame, Panel\n",
    "\n",
    "# Misc\n",
    "import time\n",
    "import datetime as dt\n",
    "import math\n",
    "print 'All libraries loaded.'"
   ]
  },
  {
   "cell_type": "markdown",
   "metadata": {},
   "source": [
    "## Plot function definitions"
   ]
  },
  {
   "cell_type": "code",
   "execution_count": 2,
   "metadata": {
    "collapsed": false
   },
   "outputs": [],
   "source": [
    "def plot_pdf(data, title):\n",
    "    data.sort()\n",
    "    pdf = stats.norm.pdf(data, np.mean(data), np.std(data))\n",
    "    pyplot.plot(data, pdf, '-o', linewidth=3)\n",
    "    pyplot.grid()\n",
    "    pyplot.title(title)\n",
    "    pyplot.show()"
   ]
  },
  {
   "cell_type": "markdown",
   "metadata": {},
   "source": [
    "# Make dataframes from data"
   ]
  },
  {
   "cell_type": "code",
   "execution_count": 3,
   "metadata": {
    "collapsed": false,
    "scrolled": true
   },
   "outputs": [],
   "source": [
    "# Make dataframes from data\n",
    "\n",
    "# eGFR data\n",
    "egfr_df = pd.read_csv('~/code/independent/datasets/cdr_gfr_derived.csv', parse_dates=['resultdata'])\n",
    "egfr_df.drop('gfr', axis=1, inplace=True)\n",
    "egfr_df.columns = ['pid', 'timestamp', 'gender', 'birthyear', 'age', 'gfr']\n",
    "\n",
    "# Findings data\n",
    "findings_df = pd.read_csv('~/code/independent/datasets/cdr_finding.csv', parse_dates=['finddate'], usecols=['idperson', 'finddate', 'valuename', 'findvalnum'])\n",
    "findings_df = findings_df[['idperson', 'finddate', 'valuename', 'findvalnum']]\n",
    "findings_df.columns = ['pid', 'timestamp', 'testname', 'testval']\n",
    "\n",
    "# Lab reports data\n",
    "lab_df = pd.read_csv('~/code/independent/datasets/cdr_lab_result.csv', parse_dates=['resultdate'], usecols=['idperson', 'resultdate', 'valuename', 'resultvaluenum'])\n",
    "lab_df = lab_df[['idperson', 'resultdate', 'valuename', 'resultvaluenum']]\n",
    "lab_df.columns = ['pid', 'timestamp', 'testname', 'testval']\n",
    "# Make all lab tests values uppercase\n",
    "lab_df.testname = map(lambda x: x.upper(), lab_df.testname)"
   ]
  },
  {
   "cell_type": "code",
   "execution_count": 4,
   "metadata": {
    "collapsed": false
   },
   "outputs": [],
   "source": [
    "# Normalize dates (to remove the time part of it)\n",
    "egfr_df.timestamp = egfr_df.timestamp.map(pd.datetools.normalize_date)\n",
    "findings_df.timestamp = findings_df.timestamp.map(pd.datetools.normalize_date)\n",
    "lab_df.timestamp = lab_df.timestamp.map(pd.datetools.normalize_date)\n",
    "\n",
    "# Set the index as a combination of the person ID and timestamp\n",
    "egfr_df.set_index(['pid', 'timestamp'], inplace=True)\n",
    "findings_df.set_index(['pid', 'timestamp'], inplace=True)\n",
    "lab_df.set_index(['pid', 'timestamp'], inplace=True)"
   ]
  },
  {
   "cell_type": "code",
   "execution_count": 67,
   "metadata": {
    "collapsed": false
   },
   "outputs": [
    {
     "name": "stdout",
     "output_type": "stream",
     "text": [
      "\n",
      "0% of the values are NaN\n"
     ]
    }
   ],
   "source": [
    "# NaN values\n",
    "total_rowcount = len(lab_df.testval.values)\n",
    "nan_rowcount = len([x for x in lab_df.testval.values if math.isnan(x)])\n",
    "print '\\n',(str(nan_rowcount*100/total_rowcount)+ \"% of the values are NaN\")\n",
    "\n",
    "# Drop NaN rows\n",
    "# lab_df.dropna(inplace=True)"
   ]
  },
  {
   "cell_type": "markdown",
   "metadata": {},
   "source": [
    "## Make tiny versions of the datasets"
   ]
  },
  {
   "cell_type": "code",
   "execution_count": 16,
   "metadata": {
    "collapsed": false
   },
   "outputs": [],
   "source": [
    "egfr_df = egfr_df[:10000]\n",
    "lab_df = lab_df[:10000]\n",
    "findings_df = findings_df[:10000]"
   ]
  },
  {
   "cell_type": "markdown",
   "metadata": {},
   "source": [
    "## Make the new dataframe (empty)"
   ]
  },
  {
   "cell_type": "code",
   "execution_count": 65,
   "metadata": {
    "collapsed": false
   },
   "outputs": [
    {
     "name": "stdout",
     "output_type": "stream",
     "text": [
      "\n",
      "Findings: ['FND_BPS']\n",
      "Lab tests: ['LR_AST', 'LR_MICROCR', 'LR_TRIG', 'LR_GFR', 'LR_VITD 25', 'LR_ALT', 'LR_PHOS', 'LR_GFR_AFRAMER']\n"
     ]
    }
   ],
   "source": [
    "# Column names will be a combination of all the lab test names and finding names\n",
    "unique_findings = set(findings_df.testname.values)\n",
    "unique_labtests = set(lab_df.testname.values)\n",
    "print '\\nFindings:', list(unique_findings)\n",
    "print 'Lab tests:', list(unique_labtests)\n",
    "final_col_names = np.append(np.append(egfr_df.columns.values, list(unique_findings)), list(unique_labtests))\n",
    "\n",
    "# Make new frame\n",
    "combined_df = DataFrame(columns=final_col_names)"
   ]
  },
  {
   "cell_type": "markdown",
   "metadata": {},
   "source": [
    "## Fill new dataframe based on joins on the other dataframes"
   ]
  },
  {
   "cell_type": "code",
   "execution_count": null,
   "metadata": {
    "collapsed": false,
    "scrolled": true
   },
   "outputs": [],
   "source": []
  },
  {
   "cell_type": "code",
   "execution_count": null,
   "metadata": {
    "collapsed": false
   },
   "outputs": [],
   "source": []
  },
  {
   "cell_type": "code",
   "execution_count": 61,
   "metadata": {
    "collapsed": false
   },
   "outputs": [],
   "source": []
  },
  {
   "cell_type": "code",
   "execution_count": null,
   "metadata": {
    "collapsed": true
   },
   "outputs": [],
   "source": []
  }
 ],
 "metadata": {
  "kernelspec": {
   "display_name": "Python 2",
   "language": "python",
   "name": "python2"
  },
  "language_info": {
   "codemirror_mode": {
    "name": "ipython",
    "version": 2
   },
   "file_extension": ".py",
   "mimetype": "text/x-python",
   "name": "python",
   "nbconvert_exporter": "python",
   "pygments_lexer": "ipython2",
   "version": "2.7.10"
  }
 },
 "nbformat": 4,
 "nbformat_minor": 0
}
