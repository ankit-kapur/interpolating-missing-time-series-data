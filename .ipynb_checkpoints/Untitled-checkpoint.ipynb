{
 "cells": [
  {
   "cell_type": "markdown",
   "metadata": {},
   "source": [
    "# Understanding the eGFR dataset\n",
    "\n",
    "### Importing libraries"
   ]
  },
  {
   "cell_type": "code",
   "execution_count": 2,
   "metadata": {
    "collapsed": false
   },
   "outputs": [
    {
     "name": "stdout",
     "output_type": "stream",
     "text": [
      "All libraries loaded.\n"
     ]
    }
   ],
   "source": [
    "# Numpy\n",
    "import numpy as np\n",
    "from numpy import concatenate, array\n",
    "from numpy.random import randn\n",
    "# Decimal precision value to display in the matrix\n",
    "np.set_printoptions(precision=5, suppress=True)\n",
    "\n",
    "# Scipy\n",
    "import scipy\n",
    "\n",
    "# Matplotlib\n",
    "import matplotlib.pyplot as pyplot\n",
    "import matplotlib.cm as cm\n",
    "%matplotlib inline\n",
    "#mpl.rc('figure', figsize=(10, 8))\n",
    "\n",
    "# DBscan from sklearn\n",
    "from sklearn import cluster, datasets\n",
    "from sklearn.cluster import DBSCAN\n",
    "from sklearn import metrics\n",
    "from sklearn.datasets.samples_generator import make_blobs\n",
    "from sklearn.preprocessing import StandardScaler\n",
    "import time\n",
    "print 'All libraries loaded.'"
   ]
  },
  {
   "cell_type": "markdown",
   "metadata": {},
   "source": [
    "## Load datasets"
   ]
  },
  {
   "cell_type": "code",
   "execution_count": null,
   "metadata": {
    "collapsed": true
   },
   "outputs": [],
   "source": [
    "# Loads the data from the given file into a numpy array\n",
    "def getDataSetFromFile(filePath, delimiter='\\t', datatype=float):\n",
    "    data_set = np.loadtxt(filePath, delimiter=delimiter, dtype=datatype)\n",
    "\n",
    "    # Remove the first 2 columns\n",
    "    # data_set = np.delete(data_set, (0,1), 1)\n",
    "    \n",
    "    # Add 2 columns at the end to keep track of visited points, and for labels\n",
    "    zero_column = np.zeros((data_set.shape[0],1))\n",
    "    data_set = np.concatenate((data_set, zero_column), axis=1)\n",
    "    data_set = np.concatenate((data_set, zero_column), axis=1)\n",
    "    \n",
    "    # Shuffle the rows up\n",
    "    # np.random.shuffle(data_set)\n",
    "    \n",
    "    return data_set\n",
    "\n",
    "\n",
    "# Get the datasets\n",
    "def loadDatasets():\n",
    "    cho_dataset = getDataSetFromFile('dataset/cdr_gfr_derived.csv')"
   ]
  }
 ],
 "metadata": {
  "kernelspec": {
   "display_name": "Python 2",
   "language": "python",
   "name": "python2"
  },
  "language_info": {
   "codemirror_mode": {
    "name": "ipython",
    "version": 2
   },
   "file_extension": ".py",
   "mimetype": "text/x-python",
   "name": "python",
   "nbconvert_exporter": "python",
   "pygments_lexer": "ipython2",
   "version": "2.7.9"
  }
 },
 "nbformat": 4,
 "nbformat_minor": 0
}
